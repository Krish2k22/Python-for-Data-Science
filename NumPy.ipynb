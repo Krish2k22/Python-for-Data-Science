{
 "cells": [
  {
   "cell_type": "markdown",
   "id": "86be5ccd",
   "metadata": {},
   "source": [
    "## NumPy"
   ]
  },
  {
   "cell_type": "code",
   "execution_count": 177,
   "id": "a7c34fd9",
   "metadata": {},
   "outputs": [],
   "source": [
    "import numpy as np"
   ]
  },
  {
   "cell_type": "markdown",
   "id": "f53d7bdf",
   "metadata": {},
   "source": [
    "### Single-dimensional Array"
   ]
  },
  {
   "cell_type": "code",
   "execution_count": 178,
   "id": "70c493e0",
   "metadata": {},
   "outputs": [],
   "source": [
    "l1 = [10, 20, 30, 40, 50]"
   ]
  },
  {
   "cell_type": "code",
   "execution_count": 179,
   "id": "f00e45dd",
   "metadata": {},
   "outputs": [
    {
     "data": {
      "text/plain": [
       "array([10, 20, 30, 40, 50])"
      ]
     },
     "execution_count": 179,
     "metadata": {},
     "output_type": "execute_result"
    }
   ],
   "source": [
    "a1 = np.array(l1)\n",
    "a1"
   ]
  },
  {
   "cell_type": "code",
   "execution_count": 180,
   "id": "aa11c882",
   "metadata": {},
   "outputs": [
    {
     "data": {
      "text/plain": [
       "numpy.ndarray"
      ]
     },
     "execution_count": 180,
     "metadata": {},
     "output_type": "execute_result"
    }
   ],
   "source": [
    "type(a1)"
   ]
  },
  {
   "cell_type": "markdown",
   "id": "72485e07",
   "metadata": {},
   "source": [
    "### Multi-dimensional Array"
   ]
  },
  {
   "cell_type": "code",
   "execution_count": 181,
   "id": "0ab9d804",
   "metadata": {},
   "outputs": [
    {
     "data": {
      "text/plain": [
       "array([[1, 2, 3, 4, 5],\n",
       "       [5, 4, 3, 2, 1]])"
      ]
     },
     "execution_count": 181,
     "metadata": {},
     "output_type": "execute_result"
    }
   ],
   "source": [
    "a2 = np.array([[1, 2, 3, 4, 5], [5, 4, 3, 2, 1]])\n",
    "a2"
   ]
  },
  {
   "cell_type": "code",
   "execution_count": 182,
   "id": "b86c7c8d",
   "metadata": {},
   "outputs": [
    {
     "data": {
      "text/plain": [
       "numpy.ndarray"
      ]
     },
     "execution_count": 182,
     "metadata": {},
     "output_type": "execute_result"
    }
   ],
   "source": [
    "type(a2)"
   ]
  },
  {
   "cell_type": "markdown",
   "id": "0f5ee95f",
   "metadata": {},
   "source": [
    "### Initializing NumPy Array"
   ]
  },
  {
   "cell_type": "code",
   "execution_count": 183,
   "id": "f4ad1895",
   "metadata": {},
   "outputs": [
    {
     "data": {
      "text/plain": [
       "array([[0., 0., 0.],\n",
       "       [0., 0., 0.]])"
      ]
     },
     "execution_count": 183,
     "metadata": {},
     "output_type": "execute_result"
    }
   ],
   "source": [
    "a3 = np.zeros((2, 3))\n",
    "a3"
   ]
  },
  {
   "cell_type": "code",
   "execution_count": 184,
   "id": "df96392f",
   "metadata": {},
   "outputs": [
    {
     "data": {
      "text/plain": [
       "numpy.ndarray"
      ]
     },
     "execution_count": 184,
     "metadata": {},
     "output_type": "execute_result"
    }
   ],
   "source": [
    "type(a3)"
   ]
  },
  {
   "cell_type": "code",
   "execution_count": 185,
   "id": "84353da1",
   "metadata": {},
   "outputs": [
    {
     "data": {
      "text/plain": [
       "array([[0., 0., 0., 0., 0., 0., 0., 0., 0., 0.],\n",
       "       [0., 0., 0., 0., 0., 0., 0., 0., 0., 0.],\n",
       "       [0., 0., 0., 0., 0., 0., 0., 0., 0., 0.],\n",
       "       [0., 0., 0., 0., 0., 0., 0., 0., 0., 0.],\n",
       "       [0., 0., 0., 0., 0., 0., 0., 0., 0., 0.],\n",
       "       [0., 0., 0., 0., 0., 0., 0., 0., 0., 0.],\n",
       "       [0., 0., 0., 0., 0., 0., 0., 0., 0., 0.],\n",
       "       [0., 0., 0., 0., 0., 0., 0., 0., 0., 0.],\n",
       "       [0., 0., 0., 0., 0., 0., 0., 0., 0., 0.],\n",
       "       [0., 0., 0., 0., 0., 0., 0., 0., 0., 0.]])"
      ]
     },
     "execution_count": 185,
     "metadata": {},
     "output_type": "execute_result"
    }
   ],
   "source": [
    "a4 = np.zeros((10, 10))\n",
    "a4"
   ]
  },
  {
   "cell_type": "markdown",
   "id": "b34ea84e",
   "metadata": {},
   "source": [
    "### Initializing NumPy Array with Same Number"
   ]
  },
  {
   "cell_type": "code",
   "execution_count": 186,
   "id": "0c2b340c",
   "metadata": {},
   "outputs": [
    {
     "data": {
      "text/plain": [
       "array([[10, 10, 10],\n",
       "       [10, 10, 10],\n",
       "       [10, 10, 10]])"
      ]
     },
     "execution_count": 186,
     "metadata": {},
     "output_type": "execute_result"
    }
   ],
   "source": [
    "a5 = np.full((3, 3), 10)\n",
    "a5"
   ]
  },
  {
   "cell_type": "markdown",
   "id": "9ec0ec8a",
   "metadata": {},
   "source": [
    "### Initializing NumPy Array with a Range"
   ]
  },
  {
   "cell_type": "code",
   "execution_count": 187,
   "id": "5c7ac531",
   "metadata": {},
   "outputs": [
    {
     "data": {
      "text/plain": [
       "array([10, 11, 12, 13, 14, 15, 16, 17, 18, 19, 20, 21, 22, 23, 24, 25, 26,\n",
       "       27, 28, 29, 30, 31, 32, 33, 34, 35, 36, 37, 38, 39, 40, 41, 42, 43,\n",
       "       44, 45, 46, 47, 48, 49])"
      ]
     },
     "execution_count": 187,
     "metadata": {},
     "output_type": "execute_result"
    }
   ],
   "source": [
    "a6 = np.arange(10, 50)\n",
    "a6"
   ]
  },
  {
   "cell_type": "code",
   "execution_count": 188,
   "id": "9e21df41",
   "metadata": {},
   "outputs": [
    {
     "data": {
      "text/plain": [
       "array([  0,  10,  20,  30,  40,  50,  60,  70,  80,  90, 100, 110, 120,\n",
       "       130, 140, 150, 160, 170, 180, 190, 200, 210, 220, 230, 240, 250,\n",
       "       260, 270, 280, 290, 300, 310, 320, 330, 340, 350, 360, 370, 380,\n",
       "       390, 400, 410, 420, 430, 440, 450, 460, 470, 480, 490])"
      ]
     },
     "execution_count": 188,
     "metadata": {},
     "output_type": "execute_result"
    }
   ],
   "source": [
    "a7 = np.arange(0, 500, 10)\n",
    "a7"
   ]
  },
  {
   "cell_type": "markdown",
   "id": "263dfd60",
   "metadata": {},
   "source": [
    "### Initializing NumPy Array with Random Numbers"
   ]
  },
  {
   "cell_type": "code",
   "execution_count": 189,
   "id": "931e8d6c",
   "metadata": {},
   "outputs": [
    {
     "data": {
      "text/plain": [
       "array([72, 74, 90, 12, 68, 99, 32, 10, 41, 41])"
      ]
     },
     "execution_count": 189,
     "metadata": {},
     "output_type": "execute_result"
    }
   ],
   "source": [
    "a8 = np.random.randint(1, 100, 10)\n",
    "a8"
   ]
  },
  {
   "cell_type": "markdown",
   "id": "4559a98a",
   "metadata": {},
   "source": [
    "### Checking the Shape of NumPy Arrays"
   ]
  },
  {
   "cell_type": "code",
   "execution_count": 190,
   "id": "9d980c82",
   "metadata": {},
   "outputs": [
    {
     "data": {
      "text/plain": [
       "array([[1, 2, 3, 4],\n",
       "       [4, 3, 2, 1]])"
      ]
     },
     "execution_count": 190,
     "metadata": {},
     "output_type": "execute_result"
    }
   ],
   "source": [
    "a9 = np.array([[1, 2, 3, 4], [4, 3, 2, 1]])\n",
    "a9"
   ]
  },
  {
   "cell_type": "code",
   "execution_count": 191,
   "id": "ddc51a7b",
   "metadata": {},
   "outputs": [
    {
     "data": {
      "text/plain": [
       "(2, 4)"
      ]
     },
     "execution_count": 191,
     "metadata": {},
     "output_type": "execute_result"
    }
   ],
   "source": [
    "a9.shape"
   ]
  },
  {
   "cell_type": "code",
   "execution_count": 192,
   "id": "48c8675f",
   "metadata": {},
   "outputs": [],
   "source": [
    "a9.shape = (4, 2)"
   ]
  },
  {
   "cell_type": "code",
   "execution_count": 193,
   "id": "eedabb4d",
   "metadata": {},
   "outputs": [
    {
     "data": {
      "text/plain": [
       "array([[1, 2],\n",
       "       [3, 4],\n",
       "       [4, 3],\n",
       "       [2, 1]])"
      ]
     },
     "execution_count": 193,
     "metadata": {},
     "output_type": "execute_result"
    }
   ],
   "source": [
    "a9"
   ]
  },
  {
   "cell_type": "code",
   "execution_count": 194,
   "id": "dbfc4b01",
   "metadata": {},
   "outputs": [
    {
     "data": {
      "text/plain": [
       "(4, 2)"
      ]
     },
     "execution_count": 194,
     "metadata": {},
     "output_type": "execute_result"
    }
   ],
   "source": [
    "a9.shape"
   ]
  },
  {
   "cell_type": "code",
   "execution_count": 195,
   "id": "b474a8da",
   "metadata": {},
   "outputs": [
    {
     "data": {
      "text/plain": [
       "array([[1],\n",
       "       [2],\n",
       "       [3],\n",
       "       [4],\n",
       "       [4],\n",
       "       [3],\n",
       "       [2],\n",
       "       [1]])"
      ]
     },
     "execution_count": 195,
     "metadata": {},
     "output_type": "execute_result"
    }
   ],
   "source": [
    "a9.shape = (8, 1)\n",
    "a9"
   ]
  },
  {
   "cell_type": "code",
   "execution_count": 196,
   "id": "6db799df",
   "metadata": {},
   "outputs": [
    {
     "data": {
      "text/plain": [
       "(8, 1)"
      ]
     },
     "execution_count": 196,
     "metadata": {},
     "output_type": "execute_result"
    }
   ],
   "source": [
    "a9.shape"
   ]
  },
  {
   "cell_type": "markdown",
   "id": "fdd612f5",
   "metadata": {},
   "source": [
    "### Joining NumPy Arrays"
   ]
  },
  {
   "cell_type": "code",
   "execution_count": 197,
   "id": "3dabd2a7",
   "metadata": {},
   "outputs": [],
   "source": [
    "n1 = np.array([1, 2, 3])\n",
    "n2 = np.array([4, 5, 6])"
   ]
  },
  {
   "cell_type": "code",
   "execution_count": 198,
   "id": "9c144403",
   "metadata": {},
   "outputs": [
    {
     "data": {
      "text/plain": [
       "array([[1, 2, 3],\n",
       "       [4, 5, 6]])"
      ]
     },
     "execution_count": 198,
     "metadata": {},
     "output_type": "execute_result"
    }
   ],
   "source": [
    "np.vstack((n1, n2))"
   ]
  },
  {
   "cell_type": "code",
   "execution_count": 199,
   "id": "223e5976",
   "metadata": {},
   "outputs": [
    {
     "data": {
      "text/plain": [
       "array([1, 2, 3, 4, 5, 6])"
      ]
     },
     "execution_count": 199,
     "metadata": {},
     "output_type": "execute_result"
    }
   ],
   "source": [
    "np.hstack((n1, n2))"
   ]
  },
  {
   "cell_type": "code",
   "execution_count": 200,
   "id": "c23c5548",
   "metadata": {},
   "outputs": [
    {
     "data": {
      "text/plain": [
       "array([[1, 4],\n",
       "       [2, 5],\n",
       "       [3, 6]])"
      ]
     },
     "execution_count": 200,
     "metadata": {},
     "output_type": "execute_result"
    }
   ],
   "source": [
    "np.column_stack((n1, n2))"
   ]
  },
  {
   "cell_type": "markdown",
   "id": "7af7e661",
   "metadata": {},
   "source": [
    "### NumPy Intersection, Union & Difference"
   ]
  },
  {
   "cell_type": "code",
   "execution_count": 201,
   "id": "a8c8ed4a",
   "metadata": {},
   "outputs": [],
   "source": [
    "n1 = np.array([10, 20, 30, 40, 50, 60])\n",
    "n2 = np.array([50, 60, 70, 80, 90, 100])"
   ]
  },
  {
   "cell_type": "code",
   "execution_count": 202,
   "id": "22e36eed",
   "metadata": {},
   "outputs": [
    {
     "data": {
      "text/plain": [
       "array([50, 60])"
      ]
     },
     "execution_count": 202,
     "metadata": {},
     "output_type": "execute_result"
    }
   ],
   "source": [
    "np.intersect1d(n1, n2)"
   ]
  },
  {
   "cell_type": "code",
   "execution_count": 203,
   "id": "d865e81f",
   "metadata": {},
   "outputs": [
    {
     "data": {
      "text/plain": [
       "array([10, 20, 30, 40])"
      ]
     },
     "execution_count": 203,
     "metadata": {},
     "output_type": "execute_result"
    }
   ],
   "source": [
    "np.setdiff1d(n1, n2)"
   ]
  },
  {
   "cell_type": "code",
   "execution_count": 204,
   "id": "ac0dd7a9",
   "metadata": {},
   "outputs": [
    {
     "data": {
      "text/plain": [
       "array([ 70,  80,  90, 100])"
      ]
     },
     "execution_count": 204,
     "metadata": {},
     "output_type": "execute_result"
    }
   ],
   "source": [
    "np.setdiff1d(n2, n1)"
   ]
  },
  {
   "cell_type": "code",
   "execution_count": 205,
   "id": "ec4033d0",
   "metadata": {},
   "outputs": [
    {
     "data": {
      "text/plain": [
       "array([ 10,  20,  30,  40,  50,  60,  70,  80,  90, 100])"
      ]
     },
     "execution_count": 205,
     "metadata": {},
     "output_type": "execute_result"
    }
   ],
   "source": [
    "np.union1d(n1, n2)"
   ]
  },
  {
   "cell_type": "markdown",
   "id": "b0df006a",
   "metadata": {},
   "source": [
    "### Addition of NumPy Arrays"
   ]
  },
  {
   "cell_type": "code",
   "execution_count": 206,
   "id": "9ed9e3de",
   "metadata": {},
   "outputs": [],
   "source": [
    "n1 = np.array([10, 20])\n",
    "n2 = np.array([30, 40])"
   ]
  },
  {
   "cell_type": "code",
   "execution_count": 207,
   "id": "effccf04",
   "metadata": {},
   "outputs": [
    {
     "data": {
      "text/plain": [
       "100"
      ]
     },
     "execution_count": 207,
     "metadata": {},
     "output_type": "execute_result"
    }
   ],
   "source": [
    "np.sum([n1, n2])"
   ]
  },
  {
   "cell_type": "code",
   "execution_count": 208,
   "id": "187cbcee",
   "metadata": {},
   "outputs": [
    {
     "data": {
      "text/plain": [
       "array([40, 60])"
      ]
     },
     "execution_count": 208,
     "metadata": {},
     "output_type": "execute_result"
    }
   ],
   "source": [
    "np.sum([n1, n2], 0)"
   ]
  },
  {
   "cell_type": "code",
   "execution_count": 209,
   "id": "0cc9b624",
   "metadata": {},
   "outputs": [
    {
     "data": {
      "text/plain": [
       "array([30, 70])"
      ]
     },
     "execution_count": 209,
     "metadata": {},
     "output_type": "execute_result"
    }
   ],
   "source": [
    "np.sum([n1, n2], 1)"
   ]
  },
  {
   "cell_type": "markdown",
   "id": "601639eb",
   "metadata": {},
   "source": [
    "### NumPy Array Matehmatics"
   ]
  },
  {
   "cell_type": "code",
   "execution_count": 210,
   "id": "768956f4",
   "metadata": {},
   "outputs": [],
   "source": [
    "n1 = np.array([10, 20, 30])"
   ]
  },
  {
   "cell_type": "code",
   "execution_count": 211,
   "id": "f97d9268",
   "metadata": {},
   "outputs": [
    {
     "data": {
      "text/plain": [
       "array([15, 25, 35])"
      ]
     },
     "execution_count": 211,
     "metadata": {},
     "output_type": "execute_result"
    }
   ],
   "source": [
    "n1 + 5"
   ]
  },
  {
   "cell_type": "code",
   "execution_count": 212,
   "id": "61ecc9e7",
   "metadata": {},
   "outputs": [
    {
     "data": {
      "text/plain": [
       "array([ 5, 15, 25])"
      ]
     },
     "execution_count": 212,
     "metadata": {},
     "output_type": "execute_result"
    }
   ],
   "source": [
    "n1 - 5"
   ]
  },
  {
   "cell_type": "code",
   "execution_count": 213,
   "id": "0ec87a48",
   "metadata": {},
   "outputs": [
    {
     "data": {
      "text/plain": [
       "array([ 50, 100, 150])"
      ]
     },
     "execution_count": 213,
     "metadata": {},
     "output_type": "execute_result"
    }
   ],
   "source": [
    "n1 * 5"
   ]
  },
  {
   "cell_type": "code",
   "execution_count": 214,
   "id": "550181cb",
   "metadata": {},
   "outputs": [
    {
     "data": {
      "text/plain": [
       "array([2., 4., 6.])"
      ]
     },
     "execution_count": 214,
     "metadata": {},
     "output_type": "execute_result"
    }
   ],
   "source": [
    "n1 / 5"
   ]
  },
  {
   "cell_type": "markdown",
   "id": "b57f94a7",
   "metadata": {},
   "source": [
    "### NumPy Math Functions"
   ]
  },
  {
   "cell_type": "code",
   "execution_count": 215,
   "id": "a41c903f",
   "metadata": {},
   "outputs": [],
   "source": [
    "n1 = np.random.randint(1, 50, 10)"
   ]
  },
  {
   "cell_type": "code",
   "execution_count": 216,
   "id": "78c8bf3f",
   "metadata": {},
   "outputs": [
    {
     "data": {
      "text/plain": [
       "array([ 9, 21, 42, 42, 45, 15,  7, 24, 49, 33])"
      ]
     },
     "execution_count": 216,
     "metadata": {},
     "output_type": "execute_result"
    }
   ],
   "source": [
    "n1"
   ]
  },
  {
   "cell_type": "code",
   "execution_count": 217,
   "id": "fbb15d0c",
   "metadata": {},
   "outputs": [
    {
     "data": {
      "text/plain": [
       "28.7"
      ]
     },
     "execution_count": 217,
     "metadata": {},
     "output_type": "execute_result"
    }
   ],
   "source": [
    "np.mean(n1)"
   ]
  },
  {
   "cell_type": "code",
   "execution_count": 218,
   "id": "094c0e9d",
   "metadata": {},
   "outputs": [
    {
     "data": {
      "text/plain": [
       "28.5"
      ]
     },
     "execution_count": 218,
     "metadata": {},
     "output_type": "execute_result"
    }
   ],
   "source": [
    "np.median(n1)"
   ]
  },
  {
   "cell_type": "code",
   "execution_count": 219,
   "id": "5650ba28",
   "metadata": {},
   "outputs": [
    {
     "data": {
      "text/plain": [
       "14.758387445788243"
      ]
     },
     "execution_count": 219,
     "metadata": {},
     "output_type": "execute_result"
    }
   ],
   "source": [
    "np.std(n1)"
   ]
  },
  {
   "cell_type": "markdown",
   "id": "6695df14",
   "metadata": {},
   "source": [
    "### NumPy Save & Load"
   ]
  },
  {
   "cell_type": "code",
   "execution_count": 220,
   "id": "e4d974f9",
   "metadata": {},
   "outputs": [
    {
     "data": {
      "text/plain": [
       "array([10, 20, 30, 40, 50])"
      ]
     },
     "execution_count": 220,
     "metadata": {},
     "output_type": "execute_result"
    }
   ],
   "source": [
    "n1 = np.array([10, 20, 30, 40, 50])\n",
    "n1"
   ]
  },
  {
   "cell_type": "code",
   "execution_count": 221,
   "id": "7f91ca60",
   "metadata": {},
   "outputs": [],
   "source": [
    "np.save(\"myarray\", n1)"
   ]
  },
  {
   "cell_type": "code",
   "execution_count": 222,
   "id": "4932e49e",
   "metadata": {},
   "outputs": [],
   "source": [
    "new_n1 = np.load(\"myarray.npy\")"
   ]
  },
  {
   "cell_type": "code",
   "execution_count": 223,
   "id": "a44de2ac",
   "metadata": {},
   "outputs": [
    {
     "data": {
      "text/plain": [
       "array([10, 20, 30, 40, 50])"
      ]
     },
     "execution_count": 223,
     "metadata": {},
     "output_type": "execute_result"
    }
   ],
   "source": [
    "new_n1"
   ]
  }
 ],
 "metadata": {
  "hide_input": false,
  "kernelspec": {
   "display_name": "Python 3 (ipykernel)",
   "language": "python",
   "name": "python3"
  },
  "language_info": {
   "codemirror_mode": {
    "name": "ipython",
    "version": 3
   },
   "file_extension": ".py",
   "mimetype": "text/x-python",
   "name": "python",
   "nbconvert_exporter": "python",
   "pygments_lexer": "ipython3",
   "version": "3.10.6"
  }
 },
 "nbformat": 4,
 "nbformat_minor": 5
}
